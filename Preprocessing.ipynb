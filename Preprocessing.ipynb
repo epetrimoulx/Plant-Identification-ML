{
 "cells": [
  {
   "cell_type": "markdown",
   "metadata": {},
   "source": [
    "# Preprocessing #\n",
    "Evan Petrimoulx\\\n",
    "Sania Palaha\\\n",
    "Data Analytics 1"
   ]
  },
  {
   "cell_type": "markdown",
   "metadata": {},
   "source": []
  }
 ],
 "metadata": {
  "language_info": {
   "name": "python"
  }
 },
 "nbformat": 4,
 "nbformat_minor": 2
}
