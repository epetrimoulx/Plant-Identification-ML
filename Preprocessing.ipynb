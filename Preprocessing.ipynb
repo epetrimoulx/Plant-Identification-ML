{
 "cells": [
  {
   "cell_type": "markdown",
   "metadata": {},
   "source": [
    "# Preprocessing #\n",
    "Evan Petrimoulx\\\n",
    "Sania Palaha\\\n",
    "Data Analytics 1"
   ]
  },
  {
   "cell_type": "code",
   "metadata": {
    "ExecuteTime": {
     "end_time": "2025-03-23T18:24:23.097223Z",
     "start_time": "2025-03-23T18:24:19.876225Z"
    }
   },
   "source": [
    "import os\n",
    "import numpy as np \n",
    "import seaborn as sns \n",
    "import matplotlib.pyplot as plt\n",
    "import pandas as pd\n",
    "\n",
    "from matplotlib.image import imread\n",
    "from numpy.fft import fft2, fftshift\n",
    "from tensorflow.keras import layers, models\n",
    "from sklearn.model_selection import train_test_split\n",
    "from tensorflow.keras.optimizers import Adam\n"
   ],
   "outputs": [],
   "execution_count": 1
  },
  {
   "cell_type": "code",
   "metadata": {
    "ExecuteTime": {
     "end_time": "2025-03-23T18:24:25.582965Z",
     "start_time": "2025-03-23T18:24:25.362393Z"
    }
   },
   "source": [
    "image_pixel_array = [] \n",
    "\n",
    "for file in os.listdir('/Users/saniapalaha/Desktop/Plant_leave_diseases_dataset_without_augmentation'):\n",
    "    if file.endswith(\".jpg\"):\n",
    "        image = imread(file)\n",
    "        image_pixel_array.append(image)\n",
    "\n",
    "image_pixel_array = np.array(image_pixel_array)"
   ],
   "outputs": [
    {
     "ename": "FileNotFoundError",
     "evalue": "[Errno 2] No such file or directory: '/Users/saniapalaha/Desktop/Plant_leave_diseases_dataset_without_augmentation'",
     "output_type": "error",
     "traceback": [
      "\u001B[0;31m---------------------------------------------------------------------------\u001B[0m",
      "\u001B[0;31mFileNotFoundError\u001B[0m                         Traceback (most recent call last)",
      "Cell \u001B[0;32mIn[2], line 3\u001B[0m\n\u001B[1;32m      1\u001B[0m image_pixel_array \u001B[38;5;241m=\u001B[39m [] \n\u001B[0;32m----> 3\u001B[0m \u001B[38;5;28;01mfor\u001B[39;00m file \u001B[38;5;129;01min\u001B[39;00m \u001B[43mos\u001B[49m\u001B[38;5;241;43m.\u001B[39;49m\u001B[43mlistdir\u001B[49m\u001B[43m(\u001B[49m\u001B[38;5;124;43m'\u001B[39;49m\u001B[38;5;124;43m/Users/saniapalaha/Desktop/Plant_leave_diseases_dataset_without_augmentation\u001B[39;49m\u001B[38;5;124;43m'\u001B[39;49m\u001B[43m)\u001B[49m:\n\u001B[1;32m      4\u001B[0m     \u001B[38;5;28;01mif\u001B[39;00m file\u001B[38;5;241m.\u001B[39mendswith(\u001B[38;5;124m\"\u001B[39m\u001B[38;5;124m.jpg\u001B[39m\u001B[38;5;124m\"\u001B[39m):\n\u001B[1;32m      5\u001B[0m         image \u001B[38;5;241m=\u001B[39m imread(file)\n",
      "\u001B[0;31mFileNotFoundError\u001B[0m: [Errno 2] No such file or directory: '/Users/saniapalaha/Desktop/Plant_leave_diseases_dataset_without_augmentation'"
     ]
    }
   ],
   "execution_count": 2
  },
  {
   "cell_type": "markdown",
   "metadata": {},
   "source": [
    "Dataset is now loaded and stored as a 3D numpy array (image, (horizontal pixels, vertical pixels)). Now we can perform the data preprocessing, and store the dataset."
   ]
  },
  {
   "metadata": {
    "ExecuteTime": {
     "end_time": "2025-03-23T18:24:28.016397Z",
     "start_time": "2025-03-23T18:24:27.998408Z"
    }
   },
   "cell_type": "code",
   "source": [
    "# Fourier Transform Information\n",
    "Fourier_Data = []\n",
    "num_images = image_pixel_array.shape[0]\n",
    "\n",
    "for image in num_images:\n",
    "    image_FT = np.fft2(image_pixel_array[image]) # Compute 2D Fourier Transform\n",
    "    Fourier_Data.append(image_FT)                # Append FT data to the FT_Data list. This will be added as a column in the Dataframe\n",
    "\n",
    "\n",
    "# Proof of concept: (Can remove)\n",
    "\n",
    "\n",
    "plt.figure(figsize=(12, 8))\n",
    "plt.imshow(Fourier_Data[0])\n",
    "plt.show()\n",
    "print(image_pixel_array.shape)"
   ],
   "outputs": [
    {
     "ename": "AttributeError",
     "evalue": "'list' object has no attribute 'shape'",
     "output_type": "error",
     "traceback": [
      "\u001B[0;31m---------------------------------------------------------------------------\u001B[0m",
      "\u001B[0;31mAttributeError\u001B[0m                            Traceback (most recent call last)",
      "Cell \u001B[0;32mIn[3], line 3\u001B[0m\n\u001B[1;32m      1\u001B[0m \u001B[38;5;66;03m# Fourier Transform Information\u001B[39;00m\n\u001B[1;32m      2\u001B[0m Fourier_Data \u001B[38;5;241m=\u001B[39m []\n\u001B[0;32m----> 3\u001B[0m num_images \u001B[38;5;241m=\u001B[39m \u001B[43mimage_pixel_array\u001B[49m\u001B[38;5;241;43m.\u001B[39;49m\u001B[43mshape\u001B[49m[\u001B[38;5;241m0\u001B[39m]\n\u001B[1;32m      5\u001B[0m \u001B[38;5;28;01mfor\u001B[39;00m image \u001B[38;5;129;01min\u001B[39;00m num_images:\n\u001B[1;32m      6\u001B[0m     image_FT \u001B[38;5;241m=\u001B[39m np\u001B[38;5;241m.\u001B[39mfft2(image_pixel_array[image]) \u001B[38;5;66;03m# Compute 2D Fourier Transform\u001B[39;00m\n",
      "\u001B[0;31mAttributeError\u001B[0m: 'list' object has no attribute 'shape'"
     ]
    }
   ],
   "execution_count": 3
  },
  {
   "cell_type": "markdown",
   "metadata": {},
   "source": []
  }
 ],
 "metadata": {
  "kernelspec": {
   "display_name": "Python 3",
   "language": "python",
   "name": "python3"
  },
  "language_info": {
   "codemirror_mode": {
    "name": "ipython",
    "version": 3
   },
   "file_extension": ".py",
   "mimetype": "text/x-python",
   "name": "python",
   "nbconvert_exporter": "python",
   "pygments_lexer": "ipython3",
   "version": "3.13.1"
  }
 },
 "nbformat": 4,
 "nbformat_minor": 2
}
